{
 "cells": [
  {
   "cell_type": "code",
   "execution_count": 1,
   "id": "9d4b49fd",
   "metadata": {
    "_cell_guid": "b1076dfc-b9ad-4769-8c92-a6c4dae69d19",
    "_uuid": "8f2839f25d086af736a60e9eeb907d3b93b6e0e5",
    "execution": {
     "iopub.execute_input": "2022-07-03T21:53:45.134193Z",
     "iopub.status.busy": "2022-07-03T21:53:45.133715Z",
     "iopub.status.idle": "2022-07-03T21:53:45.149150Z",
     "shell.execute_reply": "2022-07-03T21:53:45.147937Z"
    },
    "papermill": {
     "duration": 0.025731,
     "end_time": "2022-07-03T21:53:45.152378",
     "exception": false,
     "start_time": "2022-07-03T21:53:45.126647",
     "status": "completed"
    },
    "tags": []
   },
   "outputs": [
    {
     "name": "stdout",
     "output_type": "stream",
     "text": [
      "/kaggle/input/digit-recognizer/sample_submission.csv\n",
      "/kaggle/input/digit-recognizer/train.csv\n",
      "/kaggle/input/digit-recognizer/test.csv\n"
     ]
    }
   ],
   "source": [
    "# This Python 3 environment comes with many helpful analytics libraries installed\n",
    "# It is defined by the kaggle/python Docker image: https://github.com/kaggle/docker-python\n",
    "# For example, here's several helpful packages to load\n",
    "\n",
    "import numpy as np # linear algebra\n",
    "import pandas as pd # data processing, CSV file I/O (e.g. pd.read_csv)\n",
    "\n",
    "# Input data files are available in the read-only \"../input/\" directory\n",
    "# For example, running this (by clicking run or pressing Shift+Enter) will list all files under the input directory\n",
    "\n",
    "import os\n",
    "for dirname, _, filenames in os.walk('/kaggle/input'):\n",
    "    for filename in filenames:\n",
    "        print(os.path.join(dirname, filename))\n",
    "\n",
    "# You can write up to 20GB to the current directory (/kaggle/working/) that gets preserved as output when you create a version using \"Save & Run All\" \n",
    "# You can also write temporary files to /kaggle/temp/, but they won't be saved outside of the current session"
   ]
  },
  {
   "cell_type": "code",
   "execution_count": 2,
   "id": "8c35044a",
   "metadata": {
    "execution": {
     "iopub.execute_input": "2022-07-03T21:53:45.163340Z",
     "iopub.status.busy": "2022-07-03T21:53:45.162958Z",
     "iopub.status.idle": "2022-07-03T21:53:50.632142Z",
     "shell.execute_reply": "2022-07-03T21:53:50.630887Z"
    },
    "papermill": {
     "duration": 5.47726,
     "end_time": "2022-07-03T21:53:50.634705",
     "exception": false,
     "start_time": "2022-07-03T21:53:45.157445",
     "status": "completed"
    },
    "tags": []
   },
   "outputs": [],
   "source": [
    "train = pd.read_csv('../input/digit-recognizer/train.csv')\n",
    "test = pd.read_csv('../input/digit-recognizer/test.csv')"
   ]
  },
  {
   "cell_type": "code",
   "execution_count": 3,
   "id": "5cff53c1",
   "metadata": {
    "execution": {
     "iopub.execute_input": "2022-07-03T21:53:50.645761Z",
     "iopub.status.busy": "2022-07-03T21:53:50.644889Z",
     "iopub.status.idle": "2022-07-03T21:53:50.673168Z",
     "shell.execute_reply": "2022-07-03T21:53:50.671962Z"
    },
    "papermill": {
     "duration": 0.036197,
     "end_time": "2022-07-03T21:53:50.675600",
     "exception": false,
     "start_time": "2022-07-03T21:53:50.639403",
     "status": "completed"
    },
    "tags": []
   },
   "outputs": [
    {
     "data": {
      "text/html": [
       "<div>\n",
       "<style scoped>\n",
       "    .dataframe tbody tr th:only-of-type {\n",
       "        vertical-align: middle;\n",
       "    }\n",
       "\n",
       "    .dataframe tbody tr th {\n",
       "        vertical-align: top;\n",
       "    }\n",
       "\n",
       "    .dataframe thead th {\n",
       "        text-align: right;\n",
       "    }\n",
       "</style>\n",
       "<table border=\"1\" class=\"dataframe\">\n",
       "  <thead>\n",
       "    <tr style=\"text-align: right;\">\n",
       "      <th></th>\n",
       "      <th>label</th>\n",
       "      <th>pixel0</th>\n",
       "      <th>pixel1</th>\n",
       "      <th>pixel2</th>\n",
       "      <th>pixel3</th>\n",
       "      <th>pixel4</th>\n",
       "      <th>pixel5</th>\n",
       "      <th>pixel6</th>\n",
       "      <th>pixel7</th>\n",
       "      <th>pixel8</th>\n",
       "      <th>...</th>\n",
       "      <th>pixel774</th>\n",
       "      <th>pixel775</th>\n",
       "      <th>pixel776</th>\n",
       "      <th>pixel777</th>\n",
       "      <th>pixel778</th>\n",
       "      <th>pixel779</th>\n",
       "      <th>pixel780</th>\n",
       "      <th>pixel781</th>\n",
       "      <th>pixel782</th>\n",
       "      <th>pixel783</th>\n",
       "    </tr>\n",
       "  </thead>\n",
       "  <tbody>\n",
       "    <tr>\n",
       "      <th>0</th>\n",
       "      <td>1</td>\n",
       "      <td>0</td>\n",
       "      <td>0</td>\n",
       "      <td>0</td>\n",
       "      <td>0</td>\n",
       "      <td>0</td>\n",
       "      <td>0</td>\n",
       "      <td>0</td>\n",
       "      <td>0</td>\n",
       "      <td>0</td>\n",
       "      <td>...</td>\n",
       "      <td>0</td>\n",
       "      <td>0</td>\n",
       "      <td>0</td>\n",
       "      <td>0</td>\n",
       "      <td>0</td>\n",
       "      <td>0</td>\n",
       "      <td>0</td>\n",
       "      <td>0</td>\n",
       "      <td>0</td>\n",
       "      <td>0</td>\n",
       "    </tr>\n",
       "    <tr>\n",
       "      <th>1</th>\n",
       "      <td>0</td>\n",
       "      <td>0</td>\n",
       "      <td>0</td>\n",
       "      <td>0</td>\n",
       "      <td>0</td>\n",
       "      <td>0</td>\n",
       "      <td>0</td>\n",
       "      <td>0</td>\n",
       "      <td>0</td>\n",
       "      <td>0</td>\n",
       "      <td>...</td>\n",
       "      <td>0</td>\n",
       "      <td>0</td>\n",
       "      <td>0</td>\n",
       "      <td>0</td>\n",
       "      <td>0</td>\n",
       "      <td>0</td>\n",
       "      <td>0</td>\n",
       "      <td>0</td>\n",
       "      <td>0</td>\n",
       "      <td>0</td>\n",
       "    </tr>\n",
       "    <tr>\n",
       "      <th>2</th>\n",
       "      <td>1</td>\n",
       "      <td>0</td>\n",
       "      <td>0</td>\n",
       "      <td>0</td>\n",
       "      <td>0</td>\n",
       "      <td>0</td>\n",
       "      <td>0</td>\n",
       "      <td>0</td>\n",
       "      <td>0</td>\n",
       "      <td>0</td>\n",
       "      <td>...</td>\n",
       "      <td>0</td>\n",
       "      <td>0</td>\n",
       "      <td>0</td>\n",
       "      <td>0</td>\n",
       "      <td>0</td>\n",
       "      <td>0</td>\n",
       "      <td>0</td>\n",
       "      <td>0</td>\n",
       "      <td>0</td>\n",
       "      <td>0</td>\n",
       "    </tr>\n",
       "    <tr>\n",
       "      <th>3</th>\n",
       "      <td>4</td>\n",
       "      <td>0</td>\n",
       "      <td>0</td>\n",
       "      <td>0</td>\n",
       "      <td>0</td>\n",
       "      <td>0</td>\n",
       "      <td>0</td>\n",
       "      <td>0</td>\n",
       "      <td>0</td>\n",
       "      <td>0</td>\n",
       "      <td>...</td>\n",
       "      <td>0</td>\n",
       "      <td>0</td>\n",
       "      <td>0</td>\n",
       "      <td>0</td>\n",
       "      <td>0</td>\n",
       "      <td>0</td>\n",
       "      <td>0</td>\n",
       "      <td>0</td>\n",
       "      <td>0</td>\n",
       "      <td>0</td>\n",
       "    </tr>\n",
       "    <tr>\n",
       "      <th>4</th>\n",
       "      <td>0</td>\n",
       "      <td>0</td>\n",
       "      <td>0</td>\n",
       "      <td>0</td>\n",
       "      <td>0</td>\n",
       "      <td>0</td>\n",
       "      <td>0</td>\n",
       "      <td>0</td>\n",
       "      <td>0</td>\n",
       "      <td>0</td>\n",
       "      <td>...</td>\n",
       "      <td>0</td>\n",
       "      <td>0</td>\n",
       "      <td>0</td>\n",
       "      <td>0</td>\n",
       "      <td>0</td>\n",
       "      <td>0</td>\n",
       "      <td>0</td>\n",
       "      <td>0</td>\n",
       "      <td>0</td>\n",
       "      <td>0</td>\n",
       "    </tr>\n",
       "  </tbody>\n",
       "</table>\n",
       "<p>5 rows × 785 columns</p>\n",
       "</div>"
      ],
      "text/plain": [
       "   label  pixel0  pixel1  pixel2  pixel3  pixel4  pixel5  pixel6  pixel7  \\\n",
       "0      1       0       0       0       0       0       0       0       0   \n",
       "1      0       0       0       0       0       0       0       0       0   \n",
       "2      1       0       0       0       0       0       0       0       0   \n",
       "3      4       0       0       0       0       0       0       0       0   \n",
       "4      0       0       0       0       0       0       0       0       0   \n",
       "\n",
       "   pixel8  ...  pixel774  pixel775  pixel776  pixel777  pixel778  pixel779  \\\n",
       "0       0  ...         0         0         0         0         0         0   \n",
       "1       0  ...         0         0         0         0         0         0   \n",
       "2       0  ...         0         0         0         0         0         0   \n",
       "3       0  ...         0         0         0         0         0         0   \n",
       "4       0  ...         0         0         0         0         0         0   \n",
       "\n",
       "   pixel780  pixel781  pixel782  pixel783  \n",
       "0         0         0         0         0  \n",
       "1         0         0         0         0  \n",
       "2         0         0         0         0  \n",
       "3         0         0         0         0  \n",
       "4         0         0         0         0  \n",
       "\n",
       "[5 rows x 785 columns]"
      ]
     },
     "execution_count": 3,
     "metadata": {},
     "output_type": "execute_result"
    }
   ],
   "source": [
    "train.head()"
   ]
  },
  {
   "cell_type": "code",
   "execution_count": 4,
   "id": "bfa0fdaa",
   "metadata": {
    "execution": {
     "iopub.execute_input": "2022-07-03T21:53:50.687809Z",
     "iopub.status.busy": "2022-07-03T21:53:50.686799Z",
     "iopub.status.idle": "2022-07-03T21:53:50.779344Z",
     "shell.execute_reply": "2022-07-03T21:53:50.778190Z"
    },
    "papermill": {
     "duration": 0.101084,
     "end_time": "2022-07-03T21:53:50.781642",
     "exception": false,
     "start_time": "2022-07-03T21:53:50.680558",
     "status": "completed"
    },
    "tags": []
   },
   "outputs": [],
   "source": [
    "X_train = train.drop(\"label\", axis = 1)\n",
    "y = train[\"label\"]"
   ]
  },
  {
   "cell_type": "code",
   "execution_count": 5,
   "id": "9479c337",
   "metadata": {
    "execution": {
     "iopub.execute_input": "2022-07-03T21:53:50.792650Z",
     "iopub.status.busy": "2022-07-03T21:53:50.792301Z",
     "iopub.status.idle": "2022-07-03T21:53:50.907093Z",
     "shell.execute_reply": "2022-07-03T21:53:50.905535Z"
    },
    "papermill": {
     "duration": 0.125424,
     "end_time": "2022-07-03T21:53:50.911962",
     "exception": false,
     "start_time": "2022-07-03T21:53:50.786538",
     "status": "completed"
    },
    "tags": []
   },
   "outputs": [
    {
     "data": {
      "image/png": "[encoded data removed]",
      "text/plain": [
       "<Figure size 432x288 with 1 Axes>"
      ]
     },
     "metadata": {
      "needs_background": "light"
     },
     "output_type": "display_data"
    }
   ],
   "source": [
    "import matplotlib as mpl\n",
    "import matplotlib.pyplot as plt\n",
    "toDraw = np.array(X_train.iloc[0]).reshape(28,28)\n",
    "plt.imshow(toDraw, cmap = \"binary\")\n",
    "plt.axis(\"off\")\n",
    "plt.show()\n"
   ]
  },
  {
   "cell_type": "code",
   "execution_count": 6,
   "id": "1895f814",
   "metadata": {
    "execution": {
     "iopub.execute_input": "2022-07-03T21:53:50.933484Z",
     "iopub.status.busy": "2022-07-03T21:53:50.932442Z",
     "iopub.status.idle": "2022-07-03T21:53:52.308638Z",
     "shell.execute_reply": "2022-07-03T21:53:52.307433Z"
    },
    "papermill": {
     "duration": 1.390198,
     "end_time": "2022-07-03T21:53:52.311194",
     "exception": false,
     "start_time": "2022-07-03T21:53:50.920996",
     "status": "completed"
    },
    "tags": []
   },
   "outputs": [],
   "source": [
    "from sklearn.model_selection import train_test_split\n",
    "ntrain, ntest = train_test_split(train, test_size=0.15, random_state=42)\n",
    "ytrain = ntrain[\"label\"]\n",
    "ntrain = ntrain.drop(\"label\", axis = 1)\n",
    "ytest = ntest[\"label\"]\n",
    "ntest = ntest.drop(\"label\", axis = 1)\n"
   ]
  },
  {
   "cell_type": "code",
   "execution_count": 7,
   "id": "6a2c580d",
   "metadata": {
    "execution": {
     "iopub.execute_input": "2022-07-03T21:53:52.323126Z",
     "iopub.status.busy": "2022-07-03T21:53:52.322381Z",
     "iopub.status.idle": "2022-07-03T21:53:52.873368Z",
     "shell.execute_reply": "2022-07-03T21:53:52.872125Z"
    },
    "papermill": {
     "duration": 0.559889,
     "end_time": "2022-07-03T21:53:52.876114",
     "exception": false,
     "start_time": "2022-07-03T21:53:52.316225",
     "status": "completed"
    },
    "tags": []
   },
   "outputs": [],
   "source": [
    "from sklearn.linear_model import SGDClassifier\n",
    "from sklearn.model_selection import cross_val_score\n",
    "from sklearn.model_selection import RepeatedKFold\n",
    "from sklearn.preprocessing import StandardScaler\n",
    "scaler = StandardScaler()\n",
    "X_train_scaled = scaler.fit_transform(ntrain.astype(np.float64))"
   ]
  },
  {
   "cell_type": "code",
   "execution_count": 8,
   "id": "bbb4db70",
   "metadata": {
    "execution": {
     "iopub.execute_input": "2022-07-03T21:53:52.888304Z",
     "iopub.status.busy": "2022-07-03T21:53:52.887423Z",
     "iopub.status.idle": "2022-07-03T21:57:57.942028Z",
     "shell.execute_reply": "2022-07-03T21:57:57.940779Z"
    },
    "papermill": {
     "duration": 245.068645,
     "end_time": "2022-07-03T21:57:57.949743",
     "exception": false,
     "start_time": "2022-07-03T21:53:52.881098",
     "status": "completed"
    },
    "tags": []
   },
   "outputs": [
    {
     "data": {
      "text/plain": [
       "SGDClassifier()"
      ]
     },
     "execution_count": 8,
     "metadata": {},
     "output_type": "execute_result"
    }
   ],
   "source": [
    "model_ridge = SGDClassifier()\n",
    "model_ridge.fit(X_train_scaled,ytrain)\n"
   ]
  },
  {
   "cell_type": "code",
   "execution_count": 9,
   "id": "1b3167ad",
   "metadata": {
    "execution": {
     "iopub.execute_input": "2022-07-03T21:57:57.961461Z",
     "iopub.status.busy": "2022-07-03T21:57:57.961061Z",
     "iopub.status.idle": "2022-07-03T21:57:58.073221Z",
     "shell.execute_reply": "2022-07-03T21:57:58.072189Z"
    },
    "papermill": {
     "duration": 0.121232,
     "end_time": "2022-07-03T21:57:58.075897",
     "exception": false,
     "start_time": "2022-07-03T21:57:57.954665",
     "status": "completed"
    },
    "tags": []
   },
   "outputs": [],
   "source": [
    "test_scaled = scaler.fit_transform(ntest.astype(np.float64))"
   ]
  },
  {
   "cell_type": "code",
   "execution_count": 10,
   "id": "0a2dbb9f",
   "metadata": {
    "execution": {
     "iopub.execute_input": "2022-07-03T21:57:58.087960Z",
     "iopub.status.busy": "2022-07-03T21:57:58.087190Z",
     "iopub.status.idle": "2022-07-03T21:57:58.118886Z",
     "shell.execute_reply": "2022-07-03T21:57:58.117473Z"
    },
    "papermill": {
     "duration": 0.042515,
     "end_time": "2022-07-03T21:57:58.123411",
     "exception": false,
     "start_time": "2022-07-03T21:57:58.080896",
     "status": "completed"
    },
    "tags": []
   },
   "outputs": [],
   "source": [
    "y_pred = model_ridge.predict(test_scaled)"
   ]
  },
  {
   "cell_type": "code",
   "execution_count": 11,
   "id": "7ab19655",
   "metadata": {
    "execution": {
     "iopub.execute_input": "2022-07-03T21:57:58.144987Z",
     "iopub.status.busy": "2022-07-03T21:57:58.144416Z",
     "iopub.status.idle": "2022-07-03T21:57:58.309813Z",
     "shell.execute_reply": "2022-07-03T21:57:58.308795Z"
    },
    "papermill": {
     "duration": 0.179741,
     "end_time": "2022-07-03T21:57:58.313132",
     "exception": false,
     "start_time": "2022-07-03T21:57:58.133391",
     "status": "completed"
    },
    "tags": []
   },
   "outputs": [
    {
     "data": {
      "text/plain": [
       "<matplotlib.image.AxesImage at 0x7f8f0e88e590>"
      ]
     },
     "execution_count": 11,
     "metadata": {},
     "output_type": "execute_result"
    },
    {
     "data": {
      "image/png": "[encoded data removed]",
      "text/plain": [
       "<Figure size 432x288 with 1 Axes>"
      ]
     },
     "metadata": {
      "needs_background": "light"
     },
     "output_type": "display_data"
    }
   ],
   "source": [
    "from sklearn.metrics import confusion_matrix\n",
    "#y_pred = np.rint(y_pred)\n",
    "cnf_mx = confusion_matrix(y_pred, ytest)\n",
    "plt.imshow(cnf_mx, cmap = \"gray\")\n"
   ]
  },
  {
   "cell_type": "code",
   "execution_count": 12,
   "id": "c2a13c67",
   "metadata": {
    "execution": {
     "iopub.execute_input": "2022-07-03T21:57:58.325844Z",
     "iopub.status.busy": "2022-07-03T21:57:58.325027Z",
     "iopub.status.idle": "2022-07-03T21:57:58.457014Z",
     "shell.execute_reply": "2022-07-03T21:57:58.456185Z"
    },
    "papermill": {
     "duration": 0.140704,
     "end_time": "2022-07-03T21:57:58.459273",
     "exception": false,
     "start_time": "2022-07-03T21:57:58.318569",
     "status": "completed"
    },
    "tags": []
   },
   "outputs": [
    {
     "name": "stdout",
     "output_type": "stream",
     "text": [
      "1\n"
     ]
    },
    {
     "data": {
      "text/plain": [
       "<matplotlib.image.AxesImage at 0x7f8f0e881d50>"
      ]
     },
     "execution_count": 12,
     "metadata": {},
     "output_type": "execute_result"
    },
    {
     "data": {
      "image/png": "[encoded data removed]",
      "text/plain": [
       "<Figure size 432x288 with 1 Axes>"
      ]
     },
     "metadata": {
      "needs_background": "light"
     },
     "output_type": "display_data"
    }
   ],
   "source": [
    "idx = 236\n",
    "toDraw2 = np.array(test.iloc[idx]).reshape(28,28)\n",
    "print(y_pred[idx])\n",
    "plt.imshow(toDraw2, cmap = \"binary\")"
   ]
  },
  {
   "cell_type": "code",
   "execution_count": 13,
   "id": "01a53a1d",
   "metadata": {
    "execution": {
     "iopub.execute_input": "2022-07-03T21:57:58.473055Z",
     "iopub.status.busy": "2022-07-03T21:57:58.472332Z",
     "iopub.status.idle": "2022-07-03T21:57:58.480315Z",
     "shell.execute_reply": "2022-07-03T21:57:58.479489Z"
    },
    "papermill": {
     "duration": 0.017226,
     "end_time": "2022-07-03T21:57:58.482387",
     "exception": false,
     "start_time": "2022-07-03T21:57:58.465161",
     "status": "completed"
    },
    "tags": []
   },
   "outputs": [
    {
     "data": {
      "text/plain": [
       "0.903015873015873"
      ]
     },
     "execution_count": 13,
     "metadata": {},
     "output_type": "execute_result"
    }
   ],
   "source": [
    "accuracy = np.sum(y_pred==ytest)/y_pred.size\n",
    "accuracy\n"
   ]
  }
 ],
 "metadata": {
  "kernelspec": {
   "display_name": "Python 3",
   "language": "python",
   "name": "python3"
  },
  "language_info": {
   "codemirror_mode": {
    "name": "ipython",
    "version": 3
   },
   "file_extension": ".py",
   "mimetype": "text/x-python",
   "name": "python",
   "nbconvert_exporter": "python",
   "pygments_lexer": "ipython3",
   "version": "3.7.12"
  },
  "papermill": {
   "default_parameters": {},
   "duration": 264.031676,
   "end_time": "2022-07-03T21:57:59.209088",
   "environment_variables": {},
   "exception": null,
   "input_path": "__notebook__.ipynb",
   "output_path": "__notebook__.ipynb",
   "parameters": {},
   "start_time": "2022-07-03T21:53:35.177412",
   "version": "2.3.4"
  }
 },
 "nbformat": 4,
 "nbformat_minor": 5
}
